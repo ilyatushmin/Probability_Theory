{
 "cells": [
  {
   "cell_type": "markdown",
   "id": "d7c86393-b7a9-4f56-9fed-30f0808a1652",
   "metadata": {},
   "source": [
    "# Урок 3. EDA (exploratory data analysis) или Разведочный анализ"
   ]
  },
  {
   "cell_type": "code",
   "execution_count": 4,
   "id": "05b10b61-e73c-4120-9cab-65923bf9e48d",
   "metadata": {},
   "outputs": [],
   "source": [
    "import pandas as pd\n",
    "import numpy as np\n",
    "from math import factorial as fl"
   ]
  },
  {
   "cell_type": "markdown",
   "id": "3013abf1-c0be-42b9-bc59-8760936edcdf",
   "metadata": {},
   "source": [
    "### 1.\n",
    "Даны значения зарплат из выборки выпускников: 100, 80, 75, 77, 89, 33, 45, 25, 65, 17, 30, 24, 57, 55, 70, 75, 65, 84, 90, 150.\n",
    "Посчитать (желательно без использования статистических методов наподобие std, var, mean) среднее арифметическое, среднее квадратичное отклонение,\n",
    "смещенную и несмещенную оценки дисперсий для данной выборки.\n"
   ]
  },
  {
   "cell_type": "code",
   "execution_count": 6,
   "id": "f8f55342-887f-4181-a526-7af028861175",
   "metadata": {},
   "outputs": [],
   "source": [
    "data = pd.Series([100, 80, 75, 77, 89, 33, 45, 25, 65, 17, 30, 24, 57, 55, 70, 75, 65, 84, 90, 150])"
   ]
  },
  {
   "cell_type": "markdown",
   "id": "c02c62fe-c296-435c-b176-2a97402d9d81",
   "metadata": {},
   "source": [
    "Среднее арифметическое:"
   ]
  },
  {
   "cell_type": "code",
   "execution_count": 8,
   "id": "c1f67be2-fd85-47ba-ab2a-db613cd8fcec",
   "metadata": {},
   "outputs": [
    {
     "data": {
      "text/plain": [
       "65.3"
      ]
     },
     "execution_count": 8,
     "metadata": {},
     "output_type": "execute_result"
    }
   ],
   "source": [
    "me = data.sum() / data.count()\n",
    "me"
   ]
  },
  {
   "cell_type": "markdown",
   "id": "c110bdba-8ae2-4702-bc2f-30d432d220ef",
   "metadata": {},
   "source": [
    "Среднее квадратическое отклонение:"
   ]
  },
  {
   "cell_type": "code",
   "execution_count": 13,
   "id": "068640fd-0f97-4aa7-a1e0-e0f9ffafe9af",
   "metadata": {},
   "outputs": [
    {
     "data": {
      "text/plain": [
       "30.823854398825596"
      ]
     },
     "execution_count": 13,
     "metadata": {},
     "output_type": "execute_result"
    }
   ],
   "source": [
    "sd = np.sqrt(((data - me) ** 2).sum() / data.count())\n",
    "sd"
   ]
  },
  {
   "cell_type": "markdown",
   "id": "7eee56d8-2f32-40de-a5bc-61adc629266e",
   "metadata": {},
   "source": [
    "Смещенная оценка дисперсии:"
   ]
  },
  {
   "cell_type": "code",
   "execution_count": 19,
   "id": "a2966860-c567-41a2-8c8d-ea7116229af5",
   "metadata": {},
   "outputs": [
    {
     "data": {
      "text/plain": [
       "950.11"
      ]
     },
     "execution_count": 19,
     "metadata": {},
     "output_type": "execute_result"
    }
   ],
   "source": [
    "variance = ((data - me) ** 2).sum() / data.count()\n",
    "variance"
   ]
  },
  {
   "cell_type": "markdown",
   "id": "02ef4b4b-619c-4ba8-8b1c-104526a01350",
   "metadata": {},
   "source": [
    "Несмещенная оценка дисперсии:"
   ]
  },
  {
   "cell_type": "code",
   "execution_count": 22,
   "id": "12be4ed2-aa60-4e5c-bca6-f60f61a60838",
   "metadata": {},
   "outputs": [
    {
     "data": {
      "text/plain": [
       "1000.1157894736842"
      ]
     },
     "execution_count": 22,
     "metadata": {},
     "output_type": "execute_result"
    }
   ],
   "source": [
    "variance2 = ((data - me) ** 2).sum() / (data.count() - 1)\n",
    "variance2"
   ]
  },
  {
   "cell_type": "markdown",
   "id": "1849cc11-8d5b-441f-ba53-9d11b67ad8ae",
   "metadata": {},
   "source": [
    "## 2.\n",
    "В первом ящике находится 8 мячей, из которых 5 - белые. Во втором ящике - 12 мячей, из которых 5 белых.\n",
    "Из первого ящика вытаскивают случайным образом два мяча, из второго - 4. Какова вероятность того, что 3 мяча белые?\n"
   ]
  },
  {
   "cell_type": "markdown",
   "id": "5625be80-a4bb-4193-a76a-15bf32669a18",
   "metadata": {},
   "source": [
    "А11 - из 1го ящика 3 белых мяча\n",
    "\n",
    "А12 - из 2го ящика 1 белый мяч\n",
    "\n",
    "А21 - из 1го ящика 1 белый мяч\n",
    "\n",
    "А22 - из 2го ящика 2 белых мяча\n",
    "\n",
    "А31 - из 1го ящика 0 белых мячей\n",
    "\n",
    "А32 - из 2го ящика 3 белых мяча\n",
    "\n",
    "\n",
    "А - суммарно 3 белых мяча\n",
    "\n",
    "\n",
    "А = А11* А12 + А21* А22 + А31* А32\n"
   ]
  },
  {
   "cell_type": "code",
   "execution_count": 25,
   "id": "24941345-2ec9-4383-a57f-d1a21c6c192c",
   "metadata": {},
   "outputs": [
    {
     "data": {
      "text/plain": [
       "0.3686868686868687"
      ]
     },
     "execution_count": 25,
     "metadata": {},
     "output_type": "execute_result"
    }
   ],
   "source": [
    "PA11 = (fl(5) / (fl(2) * fl(5 - 2))) * (fl(3) / (fl(0) * fl(3 - 0))) / (fl(8) / (fl(2) * fl(8 - 2)))\n",
    "PA12 = (fl(5) / (fl(1) * fl(5 - 1))) * (fl(7) / (fl(3) * fl(7 - 3))) / (fl(12) / (fl(4) * fl(12 - 4)))\n",
    "PA21 = (fl(5) / (fl(1) * fl(5 - 1))) * (fl(3) / (fl(1) * fl(3 - 1))) / (fl(8) / (fl(2) * fl(8 - 2)))\n",
    "PА22 = (fl(5) / (fl(2) * fl(5 - 2))) * (fl(7) / (fl(2) * fl(7 - 2))) / (fl(12) / (fl(4) * fl(12 - 4)))\n",
    "PA31 = (fl(5) / (fl(0) * fl(5 - 0))) * (fl(3) / (fl(2) * fl(3 - 2))) / (fl(8) / (fl(2) * fl(8 - 2)))\n",
    "PA32 = (fl(5) / (fl(3) * fl(5 - 3))) * (fl(7) / (fl(1) * fl(7 - 1))) / (fl(12) / (fl(4) * fl(12 - 4)))\n",
    "PA = PA11 * PA12 + PA21 * PА22 + PA31 * PA32\n",
    "PA"
   ]
  },
  {
   "cell_type": "markdown",
   "id": "fadd83e5-01a7-449e-8cf0-e01eb77f1ade",
   "metadata": {},
   "source": [
    "## 3.\n",
    "На соревновании по биатлону один из трех спортсменов стреляет и попадает в мишень.\n",
    "Вероятность попадания для первого спортсмена равна 0.9, для второго — 0.8, для третьего — 0.6.\n",
    "Найти вероятность того, что выстрел произведен: a). первым спортсменом б). вторым спортсменом в). третьим спортсменом.\n"
   ]
  },
  {
   "cell_type": "markdown",
   "id": "1440049f-c1cf-4da1-bed8-a92bebb59c1e",
   "metadata": {},
   "source": [
    "А - вероятность попадания\n",
    "\n",
    "А1 - 1й попал в цель\n",
    "\n",
    "А2 - 2й попал в цель\n",
    "\n",
    "А3 - 3й попал в цель\n"
   ]
  },
  {
   "cell_type": "markdown",
   "id": "2385a93c-888c-446c-bb06-614063a7c2e4",
   "metadata": {},
   "source": [
    "Вероятность попадания:"
   ]
  },
  {
   "cell_type": "code",
   "execution_count": 31,
   "id": "4cad22f5-6835-4b2b-8803-02620b131ea1",
   "metadata": {},
   "outputs": [
    {
     "data": {
      "text/plain": [
       "0.7666666666666666"
      ]
     },
     "execution_count": 31,
     "metadata": {},
     "output_type": "execute_result"
    }
   ],
   "source": [
    "PA = 1 / 3 * 0.9 + 1 / 3 * 0.8 + 1 / 3 * 0.6\n",
    "PA"
   ]
  },
  {
   "cell_type": "markdown",
   "id": "fe1d0d74-871d-483b-97dc-b2c1cf627ac9",
   "metadata": {},
   "source": [
    "##### 3a\n",
    "Вероятность попадания 1го:"
   ]
  },
  {
   "cell_type": "code",
   "execution_count": 37,
   "id": "b7c1927f-9dfb-4628-8845-6142f7b5a18a",
   "metadata": {},
   "outputs": [
    {
     "data": {
      "text/plain": [
       "0.391304347826087"
      ]
     },
     "execution_count": 37,
     "metadata": {},
     "output_type": "execute_result"
    }
   ],
   "source": [
    "PA1 = 1 / 3 * 0.9 / PA\n",
    "PA1"
   ]
  },
  {
   "cell_type": "markdown",
   "id": "f436e3ff-92da-405c-b9d4-a257c9c1e756",
   "metadata": {},
   "source": [
    "##### 3б\n",
    "Вероятность попадания 2го:"
   ]
  },
  {
   "cell_type": "code",
   "execution_count": 39,
   "id": "5d7c5338-b29c-4f46-8dc3-dc0cb3fd01c7",
   "metadata": {},
   "outputs": [
    {
     "data": {
      "text/plain": [
       "0.3478260869565218"
      ]
     },
     "execution_count": 39,
     "metadata": {},
     "output_type": "execute_result"
    }
   ],
   "source": [
    "PA2 = 1 / 3 * 0.8 / PA\n",
    "PA2"
   ]
  },
  {
   "cell_type": "markdown",
   "id": "00f9d9f3-d721-4dbf-bbb4-5c01649c1e40",
   "metadata": {},
   "source": [
    "##### 3в\n",
    "Вероятность попадания 3го:"
   ]
  },
  {
   "cell_type": "code",
   "execution_count": 41,
   "id": "162e41b8-a917-4302-978b-1226e9515f5a",
   "metadata": {},
   "outputs": [
    {
     "data": {
      "text/plain": [
       "0.2608695652173913"
      ]
     },
     "execution_count": 41,
     "metadata": {},
     "output_type": "execute_result"
    }
   ],
   "source": [
    "PA3 = 1 / 3 * 0.6 / PA\n",
    "PA3"
   ]
  },
  {
   "cell_type": "markdown",
   "id": "076d4d5c-45a7-42ac-8d20-a4cb52763894",
   "metadata": {},
   "source": [
    "## 4.\n",
    "\n",
    "В университет на факультеты A и B поступило равное количество студентов, а на факультет C студентов поступило столько же, сколько на A и B вместе.\n",
    "Вероятность того, что студент факультета A сдаст первую сессию, равна 0.8.\n",
    "Для студента факультета B эта вероятность равна 0.7, а для студента факультета C - 0.9.\n",
    "Студент сдал первую сессию. Какова вероятность, что он учится: a). на факультете A б). на факультете B в). на факультете C?\n",
    "\n",
    "\n",
    "\n",
    "А - Студент сдал первую сессию\n",
    "\n",
    "А1 - студент с факультета А\n",
    "\n",
    "А2 - студент с факультета В\n",
    "\n",
    "А3 - студент с факультета С\n"
   ]
  },
  {
   "cell_type": "markdown",
   "id": "44f0b948-f750-41d3-982b-dee9ea72fa0e",
   "metadata": {},
   "source": [
    "Вероятность сдать:"
   ]
  },
  {
   "cell_type": "code",
   "execution_count": 44,
   "id": "8a728aff-0b31-4010-b5ee-d511550159fc",
   "metadata": {},
   "outputs": [
    {
     "data": {
      "text/plain": [
       "0.825"
      ]
     },
     "execution_count": 44,
     "metadata": {},
     "output_type": "execute_result"
    }
   ],
   "source": [
    "PA = 1 / 4 * 0.8 + 1 / 4 * 0.7 + 2 / 4 * 0.9\n",
    "PA"
   ]
  },
  {
   "cell_type": "markdown",
   "id": "237c1e73-d990-44c6-9907-ac4401c8183b",
   "metadata": {},
   "source": [
    "##### 4a\n",
    "Для факультета А:"
   ]
  },
  {
   "cell_type": "code",
   "execution_count": 46,
   "id": "ace092a4-a874-46be-8c54-f8d3449a2a1c",
   "metadata": {},
   "outputs": [
    {
     "data": {
      "text/plain": [
       "0.24242424242424246"
      ]
     },
     "execution_count": 46,
     "metadata": {},
     "output_type": "execute_result"
    }
   ],
   "source": [
    "PA1 = 1 / 4 * 0.8 / PA\n",
    "PA1"
   ]
  },
  {
   "cell_type": "markdown",
   "id": "64cc6725-3dfd-4351-9de0-8651ab86216a",
   "metadata": {},
   "source": [
    "##### 4б\n",
    "Для факультета В:"
   ]
  },
  {
   "cell_type": "code",
   "execution_count": 48,
   "id": "742f540d-3eaf-4aff-b311-af70d87edb1b",
   "metadata": {},
   "outputs": [
    {
     "data": {
      "text/plain": [
       "0.21212121212121213"
      ]
     },
     "execution_count": 48,
     "metadata": {},
     "output_type": "execute_result"
    }
   ],
   "source": [
    "PA2 = 1 / 4 * 0.7 / PA\n",
    "PA2"
   ]
  },
  {
   "cell_type": "markdown",
   "id": "1bd7067e-1bca-407b-809b-ad3f86dea0e7",
   "metadata": {},
   "source": [
    "##### 4в\n",
    "Для факультета С:"
   ]
  },
  {
   "cell_type": "code",
   "execution_count": 50,
   "id": "56265776-3e49-4a52-bfd4-50f745c641ab",
   "metadata": {},
   "outputs": [
    {
     "data": {
      "text/plain": [
       "0.5454545454545455"
      ]
     },
     "execution_count": 50,
     "metadata": {},
     "output_type": "execute_result"
    }
   ],
   "source": [
    "PA3 = 2 / 4 * 0.9 / PA\n",
    "PA3"
   ]
  },
  {
   "cell_type": "markdown",
   "id": "f0e3f831-3019-433a-b9d7-d3d5c9219a67",
   "metadata": {},
   "source": [
    "## 5.\n",
    "Устройство состоит из трех деталей.\n",
    "Для первой детали вероятность выйти из строя в первый месяц равна 0.1, для второй - 0.2, для третьей - 0.25.\n",
    "Какова вероятность того, что в первый месяц выйдут из строя:\n",
    "а). все детали б). только две детали в). хотя бы одна деталь г). от одной до двух деталей?"
   ]
  },
  {
   "cell_type": "markdown",
   "id": "072e2405-fe4a-46d6-8b86-6f13814c230b",
   "metadata": {},
   "source": [
    "##### 5a"
   ]
  },
  {
   "cell_type": "markdown",
   "id": "fc9fc170-de67-4f9d-8217-f7de3fb7d097",
   "metadata": {},
   "source": [
    "А - из строя вышли все детали"
   ]
  },
  {
   "cell_type": "code",
   "execution_count": 57,
   "id": "d9d41577-2f74-4ff7-aa13-7adf4295d5b3",
   "metadata": {},
   "outputs": [
    {
     "data": {
      "text/plain": [
       "0.005000000000000001"
      ]
     },
     "execution_count": 57,
     "metadata": {},
     "output_type": "execute_result"
    }
   ],
   "source": [
    "PA = 0.1 * 0.2 * 0.25\n",
    "PA"
   ]
  },
  {
   "cell_type": "markdown",
   "id": "925f6c60-7627-4bf6-90bf-0ca709497121",
   "metadata": {},
   "source": [
    "##### 5б"
   ]
  },
  {
   "cell_type": "markdown",
   "id": "1f3c36c6-8bb6-413a-b659-77e3018cb6c2",
   "metadata": {},
   "source": [
    "В = B1 + B2 + B3 - из строя вышло только 2 детали, где:\n",
    "\n",
    "\n",
    "B1 - из строя вышли 1я и 2я деталь, но не 3я\n",
    "\n",
    "B2 - из строя вышла 1я и 3я деталь, но не 2я\n",
    "\n",
    "B3 - из строя вышла 2я и 3я деталь, но не 1я\n",
    "\n"
   ]
  },
  {
   "cell_type": "code",
   "execution_count": 62,
   "id": "2fdd251c-62ff-47f0-b240-71914f66e168",
   "metadata": {},
   "outputs": [
    {
     "data": {
      "text/plain": [
       "0.08000000000000002"
      ]
     },
     "execution_count": 62,
     "metadata": {},
     "output_type": "execute_result"
    }
   ],
   "source": [
    "PB = 0.1 * 0.2 * 0.75 + 0.1 * 0.8 * 0.25 + 0.9 * 0.2 * 0.25\n",
    "PB"
   ]
  },
  {
   "cell_type": "markdown",
   "id": "2088fb72-80a1-4ee9-983e-9f9e866117b1",
   "metadata": {},
   "source": [
    "##### 5в"
   ]
  },
  {
   "cell_type": "markdown",
   "id": "020363c1-d27e-4a1b-b2fb-7a1be45e856c",
   "metadata": {},
   "source": [
    "C - из строя вышла хотя бы одна деталь"
   ]
  },
  {
   "cell_type": "code",
   "execution_count": 65,
   "id": "f450f1f7-0041-42a6-a648-de93fed234ca",
   "metadata": {},
   "outputs": [
    {
     "data": {
      "text/plain": [
       "0.45999999999999996"
      ]
     },
     "execution_count": 65,
     "metadata": {},
     "output_type": "execute_result"
    }
   ],
   "source": [
    "PC = 1 - 0.9 * 0.8 * 0.75\n",
    "PC"
   ]
  },
  {
   "cell_type": "markdown",
   "id": "a81eae45-55f7-43a4-b65e-0cc765dd5941",
   "metadata": {},
   "source": [
    "##### 5г"
   ]
  },
  {
   "cell_type": "markdown",
   "id": "fad23a64-c58e-4c44-8daf-a4e355ed5413",
   "metadata": {},
   "source": [
    "Е = В + D - из строя вышло от одной до двух деталей"
   ]
  },
  {
   "cell_type": "markdown",
   "id": "cfe3d0d4-8dfd-40d6-a511-0e3c97ab23c0",
   "metadata": {},
   "source": [
    "D = D1+D2+D3 - из строя вышла одна деталь, где\n",
    "\n",
    "D1 - из строя вышла первая деталь\n",
    "\n",
    "D2 - из строя вышла вторая деталь\n",
    "\n",
    "D3 - из строя вышла третья деталь"
   ]
  },
  {
   "cell_type": "code",
   "execution_count": 68,
   "id": "2fedcdef-ee9b-4e23-87a4-383ad7f189b5",
   "metadata": {},
   "outputs": [
    {
     "data": {
      "text/plain": [
       "0.08"
      ]
     },
     "execution_count": 68,
     "metadata": {},
     "output_type": "execute_result"
    }
   ],
   "source": [
    "PD = 0.9 * 0.2 * 0.25 + 0.1 * 0.8 * 0.25 + 0.1 * 0.2 * 0.75\n",
    "PD"
   ]
  },
  {
   "cell_type": "code",
   "execution_count": 70,
   "id": "0bb0c2d0-e308-4615-8299-cab345172280",
   "metadata": {},
   "outputs": [
    {
     "data": {
      "text/plain": [
       "0.16000000000000003"
      ]
     },
     "execution_count": 70,
     "metadata": {},
     "output_type": "execute_result"
    }
   ],
   "source": [
    "PE = PB + PD\n",
    "PE"
   ]
  },
  {
   "cell_type": "code",
   "execution_count": null,
   "id": "f045b0f1-c54a-4b31-b776-d56e8d1f872e",
   "metadata": {},
   "outputs": [],
   "source": []
  }
 ],
 "metadata": {
  "kernelspec": {
   "display_name": "Python 3 (ipykernel)",
   "language": "python",
   "name": "python3"
  },
  "language_info": {
   "codemirror_mode": {
    "name": "ipython",
    "version": 3
   },
   "file_extension": ".py",
   "mimetype": "text/x-python",
   "name": "python",
   "nbconvert_exporter": "python",
   "pygments_lexer": "ipython3",
   "version": "3.11.7"
  }
 },
 "nbformat": 4,
 "nbformat_minor": 5
}
