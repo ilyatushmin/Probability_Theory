{
 "cells": [
  {
   "cell_type": "markdown",
   "id": "af4bb716-d0ed-4557-bc6a-90be9453a9ed",
   "metadata": {},
   "source": [
    "### Урок 9. Линейная регрессия Логистическая регрессия"
   ]
  },
  {
   "cell_type": "code",
   "execution_count": 11,
   "id": "eaa83e38-0a48-42f1-a001-3e1041900b93",
   "metadata": {},
   "outputs": [],
   "source": [
    "import pandas as pd\n",
    "import numpy as np\n",
    "from math import factorial as fl\n",
    "import scipy.stats as st"
   ]
  },
  {
   "cell_type": "markdown",
   "id": "e96ca06d-6fe5-4408-b9af-1bb915eaa043",
   "metadata": {},
   "source": [
    "##### 1.\n",
    "Даны значения величины заработной платы заемщиков банка (zp) и значения их\r\n",
    "поведенческого кредитного скоринга (ks): zp = [35, 45, 190, 200, 40, 70, 54, 150, 120, 110], ks\r\n",
    "= [401, 574, 874, 919, 459, 739, 653, 902, 746, 832]. Найдите ковариацию этих двух величин с\r\n",
    "помощью элементарных действий, а затем с помощью функции cov из numpy Полученные\r\n",
    "значения должны быть равны. Найдите коэффициент корреляции Пирсона с помощью\r\n",
    "ковариации и среднеквадратичных отклонений двух признаков, а затем с\r\n",
    "использованием функций из библиотек numpy и pandas.\r",
    "6.\r"
   ]
  },
  {
   "cell_type": "code",
   "execution_count": 13,
   "id": "ebacb8d1-7d46-42a8-8e29-45d995ec91cd",
   "metadata": {},
   "outputs": [],
   "source": [
    "zp = np.array([35, 45, 190, 200, 40, 70, 54, 150, 120, 110])\n",
    "ks = np.array([401, 574, 874, 919, 459, 739, 653, 902, 746, 832])"
   ]
  },
  {
   "cell_type": "code",
   "execution_count": 15,
   "id": "412179f8-6c95-4f9d-b2fa-78fcd67e2423",
   "metadata": {},
   "outputs": [],
   "source": [
    "mean_zp = np.mean(zp)\n",
    "mean_ks = np.mean(ks)"
   ]
  },
  {
   "cell_type": "code",
   "execution_count": 17,
   "id": "7c31a6ac-41f6-456b-b713-489e1c649f54",
   "metadata": {},
   "outputs": [
    {
     "name": "stdout",
     "output_type": "stream",
     "text": [
      "Коэффициент наклона (b) без intercept: 2.6205388824027653\n"
     ]
    }
   ],
   "source": [
    "b = np.sum((zp - mean_zp) * (ks - mean_ks)) / np.sum((zp - mean_zp)\n",
    "** 2)\n",
    "print(f\"Коэффициент наклона (b) без intercept: {b}\")"
   ]
  },
  {
   "cell_type": "code",
   "execution_count": 19,
   "id": "157e7b40-0a9a-4830-b8b2-23529b365729",
   "metadata": {},
   "outputs": [
    {
     "name": "stdout",
     "output_type": "stream",
     "text": [
      "Коэффициент наклона (b) с intercept: 2.6205388824027653\n",
      "Intercept (a): 444.17735732435955\n"
     ]
    }
   ],
   "source": [
    "a = mean_ks - b * mean_zp\n",
    "print(f\"Коэффициент наклона (b) с intercept: {b}\")\n",
    "print(f\"Intercept (a): {a}\")"
   ]
  },
  {
   "cell_type": "markdown",
   "id": "bac4067f-6928-4175-8118-f4d474d6815b",
   "metadata": {},
   "source": [
    "##### 2.\n",
    "Посчитать коэффициент линейной регрессии при заработной плате (zp), используя\r\n",
    "градиентный спуск (без intercept)95.\r"
   ]
  },
  {
   "cell_type": "code",
   "execution_count": 22,
   "id": "8e78a74f-28c7-4257-b661-839f97cf95e2",
   "metadata": {},
   "outputs": [],
   "source": [
    "zp = np.array([35, 45, 190, 200, 40, 70, 54, 150, 120, 110])\n",
    "ks = np.array([401, 574, 874, 919, 459, 739, 653, 902, 746, 832])\n",
    "slope = 0\n",
    "learning_rate = 0.0001\n",
    "interactions = 100"
   ]
  },
  {
   "cell_type": "code",
   "execution_count": 26,
   "id": "1ecc7727-fed5-4a19-ab62-478c9416e3fb",
   "metadata": {},
   "outputs": [],
   "source": [
    "def mean_squared_error(y_true, y_pred):\n",
    "    return np.mean((y_true - y_pred)**2)"
   ]
  },
  {
   "cell_type": "code",
   "execution_count": 28,
   "id": "f0caa71c-a622-4d7f-bff4-3ddb8d8456af",
   "metadata": {},
   "outputs": [],
   "source": [
    "def gradient(zp, ks, slope):\n",
    "    return np.mean((slope * zp - ks) * zp)"
   ]
  },
  {
   "cell_type": "code",
   "execution_count": 30,
   "id": "0e525780-5a93-42cd-91a2-f603e374a45e",
   "metadata": {},
   "outputs": [],
   "source": [
    "for i in range (interactions):\n",
    "    slope -= learning_rate * gradient (zp, ks, slope)\n",
    "    mse = mean_squared_error (ks, slope * zp)"
   ]
  },
  {
   "cell_type": "code",
   "execution_count": 36,
   "id": "45ee5858-cdba-4474-9f1f-8a4c8fa29c7a",
   "metadata": {},
   "outputs": [
    {
     "name": "stdout",
     "output_type": "stream",
     "text": [
      "Итерация 100: Коэффициент склонности =  5.89, Среднеквадратическая ошибка =  56516.8584\n"
     ]
    }
   ],
   "source": [
    "print(f'Итерация {i+1}: Коэффициент склонности = {slope: .2f}, Среднеквадратическая ошибка = {mse: .4f}')"
   ]
  },
  {
   "cell_type": "code",
   "execution_count": 38,
   "id": "e89ba4c9-2e60-4f01-8bfe-3115c08efb15",
   "metadata": {},
   "outputs": [
    {
     "name": "stdout",
     "output_type": "stream",
     "text": [
      "Коэффициент склонности: 5.89\n"
     ]
    }
   ],
   "source": [
    "print(f'Коэффициент склонности: {slope:.2f}')"
   ]
  },
  {
   "cell_type": "markdown",
   "id": "45cdcf43-68dd-432c-b4e3-430d104ea729",
   "metadata": {},
   "source": [
    "##### 3.\n",
    "Произвести вычисления как в пункте 2, но с вычислением intercept. Учесть, что\r\n",
    "изменение коэффициентов должно производиться на каждом шаге одновременно (то\r\n",
    "есть изменение одного коэффициента не должно влиять на изменение другого во\r\n",
    "время одной итерации).\r",
    "\r"
   ]
  },
  {
   "cell_type": "code",
   "execution_count": 41,
   "id": "badcac29-2b45-4e80-a578-35a7ddc95bd0",
   "metadata": {},
   "outputs": [],
   "source": [
    "zp = np.array([35, 45, 190, 200, 40, 70, 54, 150, 120, 110])\n",
    "ks = np.array([401, 574, 874, 919, 459, 739, 653, 902, 746, 832])"
   ]
  },
  {
   "cell_type": "code",
   "execution_count": 43,
   "id": "d77b3e83-f309-495d-a7b8-148b34e27cfe",
   "metadata": {},
   "outputs": [],
   "source": [
    "w = 0\n",
    "b = 0"
   ]
  },
  {
   "cell_type": "code",
   "execution_count": 45,
   "id": "2e9ba271-8a62-4026-9dae-0d996224b809",
   "metadata": {},
   "outputs": [],
   "source": [
    "alfa = 0.001\n",
    "n_iter = 100"
   ]
  },
  {
   "cell_type": "code",
   "execution_count": 47,
   "id": "a98f7a51-dbde-4615-badb-ae776466e995",
   "metadata": {},
   "outputs": [],
   "source": [
    "def compute_mse (y_true, y_pred): \n",
    "    return np.mean ((y_true - y_pred)**2)"
   ]
  },
  {
   "cell_type": "code",
   "execution_count": 49,
   "id": "f737ec6f-04c5-4aff-a435-e75d7ff36f3a",
   "metadata": {},
   "outputs": [
    {
     "name": "stdout",
     "output_type": "stream",
     "text": [
      "Interaction 0: MSE = 534426.9, w = 162.28340000000003, b = 1.4198000000000002\n",
      "Итоговые значения коэффициента при zp = 162.28340000000003, b = 1.4198000000000002\n",
      "Interaction 10: MSE = 1.4527157034262774e+34, w = 2.7266980245567624e+16, b = 200697030031848.9\n",
      "Итоговые значения коэффициента при zp = 2.7266980245567624e+16, b = 200697030031848.9\n",
      "Interaction 20: MSE = 4.415767817532424e+62, w = 4.7538978213899145e+30, b = 3.4990789784391813e+28\n",
      "Итоговые значения коэффициента при zp = 4.7538978213899145e+30, b = 3.4990789784391813e+28\n",
      "Interaction 30: MSE = 1.3422451049689928e+91, w = 8.288246183729659e+44, b = 6.100515635638551e+42\n",
      "Итоговые значения коэффициента при zp = 8.288246183729659e+44, b = 6.100515635638551e+42\n",
      "Interaction 40: MSE = 4.079974301773834e+119, w = 1.4450252694330017e+59, b = 1.063602486539796e+57\n",
      "Итоговые значения коэффициента при zp = 1.4450252694330017e+59, b = 1.063602486539796e+57\n",
      "Interaction 50: MSE = 1.2401751544118622e+148, w = 2.519348464092422e+73, b = 1.8543518563660345e+71\n",
      "Итоговые значения коэффициента при zp = 2.519348464092422e+73, b = 1.8543518563660345e+71\n",
      "Interaction 60: MSE = 3.769715934121943e+176, w = 4.392391481164426e+87, b = 3.232994328919799e+85\n",
      "Итоговые значения коэффициента при zp = 4.392391481164426e+87, b = 3.232994328919799e+85\n",
      "Interaction 70: MSE = 1.1458670312349682e+205, w = 7.65797316202387e+101, b = 5.636606825692092e+99\n",
      "Итоговые значения коэффициента при zp = 7.65797316202387e+101, b = 5.636606825692092e+99\n",
      "Interaction 80: MSE = 3.48305091475565e+233, w = 1.3351394838497218e+116, b = 9.827216900208432e+113\n",
      "Итоговые значения коэффициента при zp = 1.3351394838497218e+116, b = 9.827216900208432e+113\n",
      "Interaction 90: MSE = 1.0587304935115554e+262, w = 2.327766634354975e+130, b = 1.7133391593600183e+128\n",
      "Итоговые значения коэффициента при zp = 2.327766634354975e+130, b = 1.7133391593600183e+128\n"
     ]
    }
   ],
   "source": [
    "for i in range (n_iter):\n",
    "    y_predict = w * zp + b\n",
    "    errors = y_predict - ks\n",
    "    dw = (2 / len (zp)) * np.dot(zp, errors)\n",
    "    db = (2 / len (zp)) * np.sum(errors)\n",
    "    w -= alfa * dw\n",
    "    b -= alfa * db\n",
    "    if i % 10 == 0:\n",
    "        mse = compute_mse (ks, y_predict)\n",
    "        print (f'Interaction {i}: MSE = {mse}, w = {w}, b = {b}')\n",
    "        print(f'Итоговые значения коэффициента при zp = {w}, b = {b}')"
   ]
  },
  {
   "cell_type": "code",
   "execution_count": null,
   "id": "82835b79-d7d2-4415-83c6-35416bd2b99a",
   "metadata": {},
   "outputs": [],
   "source": []
  },
  {
   "cell_type": "code",
   "execution_count": null,
   "id": "b4bd5202-c1b8-4cbe-af2f-350c0da8fb4d",
   "metadata": {},
   "outputs": [],
   "source": []
  },
  {
   "cell_type": "code",
   "execution_count": null,
   "id": "8e402c4b-f7aa-4c99-b735-845bfa4a6a56",
   "metadata": {},
   "outputs": [],
   "source": []
  }
 ],
 "metadata": {
  "kernelspec": {
   "display_name": "Python 3 (ipykernel)",
   "language": "python",
   "name": "python3"
  },
  "language_info": {
   "codemirror_mode": {
    "name": "ipython",
    "version": 3
   },
   "file_extension": ".py",
   "mimetype": "text/x-python",
   "name": "python",
   "nbconvert_exporter": "python",
   "pygments_lexer": "ipython3",
   "version": "3.11.7"
  }
 },
 "nbformat": 4,
 "nbformat_minor": 5
}
