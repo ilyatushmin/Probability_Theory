{
 "cells": [
  {
   "cell_type": "markdown",
   "id": "af4bb716-d0ed-4557-bc6a-90be9453a9ed",
   "metadata": {},
   "source": [
    "### Урок 7. Непараметрические тесты"
   ]
  },
  {
   "cell_type": "code",
   "execution_count": 11,
   "id": "eaa83e38-0a48-42f1-a001-3e1041900b93",
   "metadata": {},
   "outputs": [],
   "source": [
    "import pandas as pd\n",
    "import numpy as np\n",
    "from math import factorial as fl\n",
    "import scipy.stats as st"
   ]
  },
  {
   "cell_type": "markdown",
   "id": "e96ca06d-6fe5-4408-b9af-1bb915eaa043",
   "metadata": {},
   "source": [
    "##### 1.\n",
    "###### \n",
    "Даны две независимые выборки. Не соблюдается условие нормальност \r\n",
    "x1 380,420, 2 0\r\n",
    "y1 140,360,200, 00\r\n",
    "Сделайте вывод по результатам, полученным с помощью функции6.\r"
   ]
  },
  {
   "cell_type": "code",
   "execution_count": 5,
   "id": "ebacb8d1-7d46-42a8-8e29-45d995ec91cd",
   "metadata": {},
   "outputs": [],
   "source": [
    "x1 = [380, 420, 290]\n",
    "y1 = [140, 360, 200, 900]"
   ]
  },
  {
   "cell_type": "code",
   "execution_count": 19,
   "id": "412179f8-6c95-4f9d-b2fa-78fcd67e2423",
   "metadata": {},
   "outputs": [
    {
     "name": "stdout",
     "output_type": "stream",
     "text": [
      "8.0\n",
      "0.6285714285714286\n"
     ]
    }
   ],
   "source": [
    "u_statistic, p_value = st.mannwhitneyu(x1, y1, alternative='two-sided')\n",
    "print(u_statistic)\n",
    "print(p_value)"
   ]
  },
  {
   "cell_type": "code",
   "execution_count": 15,
   "id": "157e7b40-0a9a-4830-b8b2-23529b365729",
   "metadata": {},
   "outputs": [],
   "source": [
    "alpha = 0.05"
   ]
  },
  {
   "cell_type": "code",
   "execution_count": 21,
   "id": "919084cc-f52c-414c-a59f-3edcb55db5c5",
   "metadata": {},
   "outputs": [
    {
     "name": "stdout",
     "output_type": "stream",
     "text": [
      "Нет статистически значимых различий\n"
     ]
    }
   ],
   "source": [
    "if p_value < alpha:\n",
    "    print(\"Есть статистически значимые различия\")\n",
    "else:\n",
    "    print(\"Нет статистически значимых различий\")"
   ]
  },
  {
   "cell_type": "markdown",
   "id": "bac4067f-6928-4175-8118-f4d474d6815b",
   "metadata": {},
   "source": [
    "##### 2.\n",
    "###### Исследовалось влияние препарата на уровень давления пациентов. Сначала \n",
    "измерялось давление до приема препарата, потом через 10 минут и через 3 \r\n",
    "минут. Есть ли статистически значимые различи\n",
    "\n",
    "?\r\n",
    "1е измерение до приема препарата: 150, 160, 165, 145, 155\r\n",
    "2е измерение через 10 минут: 140, 155, 150, 130, 135\r\n",
    "3е измерение через 30 минут: 130, 130, 120, 130, 12595.\r"
   ]
  },
  {
   "cell_type": "code",
   "execution_count": 36,
   "id": "8e78a74f-28c7-4257-b661-839f97cf95e2",
   "metadata": {},
   "outputs": [],
   "source": [
    "before = [150,160,165,145, 155]\n",
    "after_10 = [140, 155, 150, 130, 135]\n",
    "after_30 = [130, 130, 120, 130, 125]"
   ]
  },
  {
   "cell_type": "code",
   "execution_count": 38,
   "id": "1ecc7727-fed5-4a19-ab62-478c9416e3fb",
   "metadata": {},
   "outputs": [],
   "source": [
    "t_stat_10, p_value_10 = st.ttest_rel(before, after_10)\n",
    "\n",
    "t_stat_30, p_value_30 = st.ttest_rel(before, after_30)\n",
    "\n",
    "t_stat_10_30, p_value_10_30 = st.ttest_rel(after_10, after_30)"
   ]
  },
  {
   "cell_type": "code",
   "execution_count": 42,
   "id": "f0caa71c-a622-4d7f-bff4-3ddb8d8456af",
   "metadata": {},
   "outputs": [
    {
     "data": {
      "text/plain": [
       "0.0069873746653197335"
      ]
     },
     "execution_count": 42,
     "metadata": {},
     "output_type": "execute_result"
    }
   ],
   "source": [
    "t_stat_10\n",
    "p_value_10"
   ]
  },
  {
   "cell_type": "code",
   "execution_count": 44,
   "id": "0e525780-5a93-42cd-91a2-f603e374a45e",
   "metadata": {},
   "outputs": [
    {
     "data": {
      "text/plain": [
       "0.005545965316967642"
      ]
     },
     "execution_count": 44,
     "metadata": {},
     "output_type": "execute_result"
    }
   ],
   "source": [
    "t_stat_30\n",
    "p_value_30"
   ]
  },
  {
   "cell_type": "code",
   "execution_count": 46,
   "id": "57b856ce-3842-468b-b346-e328161e8d07",
   "metadata": {},
   "outputs": [
    {
     "data": {
      "text/plain": [
       "0.051979694201925955"
      ]
     },
     "execution_count": 46,
     "metadata": {},
     "output_type": "execute_result"
    }
   ],
   "source": [
    "t_stat_10_30\n",
    "p_value_10_30"
   ]
  },
  {
   "cell_type": "code",
   "execution_count": 54,
   "id": "3f5f6622-2a5f-4d86-9e84-a3af15d0dec4",
   "metadata": {},
   "outputs": [
    {
     "name": "stdout",
     "output_type": "stream",
     "text": [
      "Есть стат значимые различия через 10 мин\n"
     ]
    }
   ],
   "source": [
    "alpha = 0.05\n",
    "if p_value_10 < alpha:\n",
    "    print(\"Есть стат значимые различия через 10 мин\")\n",
    "else:\n",
    "    print(\"Нет стат значимых различий через 10 мин\")"
   ]
  },
  {
   "cell_type": "code",
   "execution_count": 56,
   "id": "4c188d7d-9acb-405a-bb1e-e53141769490",
   "metadata": {},
   "outputs": [
    {
     "name": "stdout",
     "output_type": "stream",
     "text": [
      "Есть стат значимые различия через 30 мин\n"
     ]
    }
   ],
   "source": [
    "if p_value_30 < alpha:\n",
    "    print(\"Есть стат значимые различия через 30 мин\")\n",
    "else:\n",
    "    print(\"Нет стат значимых различий через 30 мин\")"
   ]
  },
  {
   "cell_type": "code",
   "execution_count": 58,
   "id": "5db0e1f4-bc9e-4e7b-b739-414745392827",
   "metadata": {},
   "outputs": [
    {
     "name": "stdout",
     "output_type": "stream",
     "text": [
      "Нет стат значимых различий через 10 и 30 мин\n"
     ]
    }
   ],
   "source": [
    "if p_value_10_30 < alpha:\n",
    "    print(\"Есть стат значимые различия через 10 и 30 мин\")\n",
    "else:\n",
    "    print(\"Нет стат значимых различий через 10 и 30 мин\")"
   ]
  },
  {
   "cell_type": "markdown",
   "id": "45cdcf43-68dd-432c-b4e3-430d104ea729",
   "metadata": {},
   "source": [
    "##### 3.\n",
    "Сравните 1 и 2 е измерения, предполагая, что 3го измерения через 30 минут не\r\n",
    "было.\r"
   ]
  },
  {
   "cell_type": "code",
   "execution_count": 63,
   "id": "badcac29-2b45-4e80-a578-35a7ddc95bd0",
   "metadata": {},
   "outputs": [],
   "source": [
    "first_measure = [150, 160, 165, 145, 155]\n",
    "sec_measure = [140, 155, 150, 130, 135]"
   ]
  },
  {
   "cell_type": "code",
   "execution_count": 69,
   "id": "d77b3e83-f309-495d-a7b8-148b34e27cfe",
   "metadata": {},
   "outputs": [],
   "source": [
    "t_stat, p_value = st.ttest_ind(first_measure,\n",
    "sec_measure, equal_var=False)"
   ]
  },
  {
   "cell_type": "code",
   "execution_count": 71,
   "id": "2e9ba271-8a62-4026-9dae-0d996224b809",
   "metadata": {},
   "outputs": [
    {
     "name": "stdout",
     "output_type": "stream",
     "text": [
      "t-статистика: 2.2294816068526147\n",
      "p-значение: 0.05862975926462081\n"
     ]
    }
   ],
   "source": [
    "print(f\"t-статистика: {t_stat}\")\n",
    "print(f\"p-значение: {p_value}\")"
   ]
  },
  {
   "cell_type": "code",
   "execution_count": 75,
   "id": "2bcc3a94-9831-440d-ac6c-a68708a5874f",
   "metadata": {},
   "outputs": [
    {
     "name": "stdout",
     "output_type": "stream",
     "text": [
      "Нет стат значимых различий\n"
     ]
    }
   ],
   "source": [
    "if p_value < alpha:\n",
    "    print(\"Есть стат значимые различия\")\n",
    "else:\n",
    "    print(\"Нет стат значимых различий\")"
   ]
  },
  {
   "cell_type": "markdown",
   "id": "0f03c1f0-71dc-42f4-af7e-ab94164e29fa",
   "metadata": {},
   "source": [
    "##### 4.\n",
    "Даны 3 группы учеников плавания.\n",
    "В 1 группе время на дистанцию 50 м составляют:\n",
    "56, 60, 62, 55, 71, 67, 59, 58, 64, 67\n",
    "Вторая группа : 57, 58, 69, 48, 72, 70, 68, 71, 50, 53\n",
    "Третья группа: 57, 67, 49, 48, 47, 55, 66, 51, 54"
   ]
  },
  {
   "cell_type": "code",
   "execution_count": 80,
   "id": "328fdc11-e431-4d5f-b1bf-d86e1ff53777",
   "metadata": {},
   "outputs": [],
   "source": [
    "group1 = [56, 60, 62, 55, 71, 67, 59, 58, 64, 67]\n",
    "group2 = [57, 58, 69, 48, 72, 70, 68, 71, 50, 53]\n",
    "group3 = [57, 67, 49, 48, 47, 55, 66, 51, 54]"
   ]
  },
  {
   "cell_type": "code",
   "execution_count": 82,
   "id": "a174173f-8e8c-4360-9522-21016634911b",
   "metadata": {},
   "outputs": [
    {
     "name": "stdout",
     "output_type": "stream",
     "text": [
      "F-статистика: 2.580607609925374\n",
      "p-значение: 0.0949875108784058\n",
      "Нет стат значимых различий\n"
     ]
    }
   ],
   "source": [
    "f_statistic, p_value = st.f_oneway(group1, group2, group3)\n",
    "\n",
    "print(f\"F-статистика: {f_statistic}\")\n",
    "\n",
    "print(f\"p-значение: {p_value}\")\n",
    "\n",
    "alpha = 0.05\n",
    "\n",
    "if p_value < alpha:\n",
    "    print(\"Есть стат значимые различия\")\n",
    "else:\n",
    "    print(\"Нет стат значимых различий\")"
   ]
  },
  {
   "cell_type": "markdown",
   "id": "9aeb8426-773f-40fc-91d2-25b7ac52ca18",
   "metadata": {},
   "source": [
    "##### 5.\n",
    "Заявляется, что партия изготавливается со средним арифметическим 2,5 см.\n",
    "Проверить данную гипотезу, если известно, что размеры изделий подчинены\n",
    "нормальному закону распределения. Объем выборки 10, уровень статистической\n",
    "значимости 5%\n",
    "2.51, 2.35, 2.74, 2.56, 2.40, 2.36, 2.65, 2.7, 2.67, 2.34"
   ]
  },
  {
   "cell_type": "code",
   "execution_count": 85,
   "id": "b11af7d5-9f2a-486e-b46c-8dbf9ded2492",
   "metadata": {},
   "outputs": [],
   "source": [
    "data = [2.51, 2.35, 2.74, 2.56, 2.40, 2.36, 2.65, 2.7, 2.67, 2.34]\n",
    "mu_0 = 2.5 # Среднее значение гипотезы\n",
    "alpha = 0.05\n",
    "n = len(data)"
   ]
  },
  {
   "cell_type": "markdown",
   "id": "300474c3-ad94-4474-97d7-f3786e57fb88",
   "metadata": {},
   "source": [
    "Среднее значение и стандартное отклонение:"
   ]
  },
  {
   "cell_type": "code",
   "execution_count": 94,
   "id": "53cdb152-e7dc-4258-920f-e4ff8706e58c",
   "metadata": {},
   "outputs": [],
   "source": [
    "mean_X = np.mean(data)\n",
    "std_dev_X = np.std(data, ddof=1)"
   ]
  },
  {
   "cell_type": "markdown",
   "id": "6623e937-49df-4b2c-b32a-0541be0a4810",
   "metadata": {},
   "source": [
    "Т-статистика:"
   ]
  },
  {
   "cell_type": "code",
   "execution_count": 98,
   "id": "a600a341-619f-4958-a2f3-889f40d6ffcb",
   "metadata": {},
   "outputs": [
    {
     "name": "stdout",
     "output_type": "stream",
     "text": [
      "t-статистика: 0.5630613661802959\n",
      "Критическое значение t: 2.2621571627409915\n"
     ]
    }
   ],
   "source": [
    "t_stat = (mean_X - mu_0) / (std_dev_X / np.sqrt(n))\n",
    "\n",
    "t_crit = st.t.ppf(1 - alpha / 2, df=n - 1)\n",
    "print(f\"t-статистика: {t_stat}\")\n",
    "print(f\"Критическое значение t: {t_crit}\")"
   ]
  },
  {
   "cell_type": "code",
   "execution_count": 104,
   "id": "205481c3-ac9d-4454-8f37-8bbf89d7a361",
   "metadata": {},
   "outputs": [
    {
     "name": "stdout",
     "output_type": "stream",
     "text": [
      "Нет оснований отвергать гипотезу\n"
     ]
    }
   ],
   "source": [
    "\n",
    "if abs(t_stat) > t_crit:\n",
    "    print(\"Отвергаем нулевую гипотезу\")\n",
    "else:\n",
    "    print(\"Нет оснований отвергать гипотезу\")"
   ]
  },
  {
   "cell_type": "code",
   "execution_count": null,
   "id": "5607fabb-793f-4a3e-8337-d619c56cd6f9",
   "metadata": {},
   "outputs": [],
   "source": []
  },
  {
   "cell_type": "code",
   "execution_count": null,
   "id": "7fdc283c-356a-4ad0-a68c-ea4609c38f5d",
   "metadata": {},
   "outputs": [],
   "source": []
  },
  {
   "cell_type": "code",
   "execution_count": null,
   "id": "b236582f-9a06-467f-870a-9f7bb4223c1f",
   "metadata": {},
   "outputs": [],
   "source": []
  },
  {
   "cell_type": "code",
   "execution_count": null,
   "id": "a98f7a51-dbde-4615-badb-ae776466e995",
   "metadata": {},
   "outputs": [],
   "source": []
  },
  {
   "cell_type": "code",
   "execution_count": null,
   "id": "f737ec6f-04c5-4aff-a435-e75d7ff36f3a",
   "metadata": {},
   "outputs": [],
   "source": []
  }
 ],
 "metadata": {
  "kernelspec": {
   "display_name": "Python 3 (ipykernel)",
   "language": "python",
   "name": "python3"
  },
  "language_info": {
   "codemirror_mode": {
    "name": "ipython",
    "version": 3
   },
   "file_extension": ".py",
   "mimetype": "text/x-python",
   "name": "python",
   "nbconvert_exporter": "python",
   "pygments_lexer": "ipython3",
   "version": "3.11.7"
  }
 },
 "nbformat": 4,
 "nbformat_minor": 5
}
