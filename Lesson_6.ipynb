{
 "cells": [
  {
   "cell_type": "markdown",
   "id": "af4bb716-d0ed-4557-bc6a-90be9453a9ed",
   "metadata": {},
   "source": [
    "### Урок 6. Сравнение долей. Построение доверительного интервала"
   ]
  },
  {
   "cell_type": "code",
   "execution_count": 8,
   "id": "eaa83e38-0a48-42f1-a001-3e1041900b93",
   "metadata": {},
   "outputs": [],
   "source": [
    "import pandas as pd\n",
    "import numpy as np\n",
    "from math import factorial as fl\n",
    "import scipy.stats as st"
   ]
  },
  {
   "cell_type": "markdown",
   "id": "e96ca06d-6fe5-4408-b9af-1bb915eaa043",
   "metadata": {},
   "source": [
    "##### 1.\n",
    "###### \n",
    "Известно, что генеральная совокупность распределена нормально со средни \r\n",
    "квадратическим отклонением, равным 16. Найти доверительный интервал д я\r\n",
    "оценки математического ожидания a с надежностью 0.95, если выбороч ая\r\n",
    "средняя M = 80, а объем выборки n = 256.\r"
   ]
  },
  {
   "cell_type": "code",
   "execution_count": 14,
   "id": "ebacb8d1-7d46-42a8-8e29-45d995ec91cd",
   "metadata": {},
   "outputs": [],
   "source": [
    "sigma = 16\n",
    "M = 80\n",
    "n = 256\n",
    "alpha = 0.05\n",
    "z_crit = st.norm.ppf(1-alpha/2)\n",
    "standard_error = sigma/np.sqrt(n)\n",
    "margin_of_error = z_crit*standard_error\n",
    "confidence_interval = (M - margon_of_error, M + margin_of_error)"
   ]
  },
  {
   "cell_type": "code",
   "execution_count": 16,
   "id": "157e7b40-0a9a-4830-b8b2-23529b365729",
   "metadata": {},
   "outputs": [
    {
     "name": "stdout",
     "output_type": "stream",
     "text": [
      "Доверительный интервал: (78.04003601545995, 81.95996398454005)\n"
     ]
    }
   ],
   "source": [
    "print(f\"Доверительный интервал: {confidence_interval}\")"
   ]
  },
  {
   "cell_type": "markdown",
   "id": "bac4067f-6928-4175-8118-f4d474d6815b",
   "metadata": {},
   "source": [
    "##### 2.\n",
    "###### В результате 10 независимых измерений некоторой величины X, выполненных с \n",
    "одинаковой точностью, получены опытные данные: 6.9, 6.1, 6.2, 6.8, 7.5, 6.3, 6.4, 6.9, 6.7, 6. \r\n",
    "Предполагая, что результаты измерений подчинены нормальному закону распределен я\r\n",
    "вероятностей, оценить истинное значение величины X при помощи доверительн го\r\n",
    "интервала, покрывающего это значение с доверительной вероятностью 0,95.\r"
   ]
  },
  {
   "cell_type": "code",
   "execution_count": 20,
   "id": "8e78a74f-28c7-4257-b661-839f97cf95e2",
   "metadata": {},
   "outputs": [],
   "source": [
    "data = [6.9, 6.1, 6.2, 6.8, 7.5, 6.3, 6.4, 6.9, 6.7, 6.1]\n",
    "n = len(data)\n",
    "alpha = 0.05\n",
    "mean_X = np.mean(data)\n",
    "std_dev_X = np.std(data, ddof=1)\n",
    "t_crit = st.t.ppf(1-alpha/2, df=n-1)\n",
    "standard_error = std_dev_X/np.sqrt(n)\n",
    "margin_of_error = t_crit*standard_error\n",
    "confidence_interval = (mean_X - margin_of_error, mean_X + margin_of_error)"
   ]
  },
  {
   "cell_type": "code",
   "execution_count": 22,
   "id": "7a89ec4a-6c4c-454c-8055-77ddc9579f48",
   "metadata": {},
   "outputs": [
    {
     "name": "stdout",
     "output_type": "stream",
     "text": [
      "Доверительный интервал: (6.267515851415713, 6.912484148584288)\n"
     ]
    }
   ],
   "source": [
    "print(f\"Доверительный интервал: {confidence_interval}\")"
   ]
  },
  {
   "cell_type": "markdown",
   "id": "45cdcf43-68dd-432c-b4e3-430d104ea729",
   "metadata": {},
   "source": [
    "##### 3.\n",
    "###### Рост дочерей 175, 167, 154, 174, 178, 148, 160, 167, 169, 170 Рост матерей 178, 165, \n",
    "165, 173, 168, 155, 160, 164, 178, 175 Используя эти данные построить 95 \r\n",
    "доверительный интервал для разности среднего роста родителей и дете.\r"
   ]
  },
  {
   "cell_type": "code",
   "execution_count": 25,
   "id": "badcac29-2b45-4e80-a578-35a7ddc95bd0",
   "metadata": {},
   "outputs": [],
   "source": [
    "mom_height = [178, 165, 165, 173, 168, 155, 160, 164, 178, 175]\n",
    "girl_height = [175, 167, 154, 174, 178, 148, 160, 167, 169, 170]\n",
    "n1 = len(mom_height)\n",
    "n2 = len(girl_height)\n",
    "mom_mean = np.mean(mom_height)\n",
    "girl_mean = np.mean(girl_height)\n",
    "var_mom = np.var(mom_height, ddof=1)\n",
    "var_girl = np.var(girl_height, ddof=1)\n",
    "pooled_variance = ((n1-1)*var_mom+(n2-1)*var_girl)/(n1+n2-2)\n",
    "alpha = 0.05\n",
    "t_crit = st.t.ppf(1-alpha/2, df = n1+n2-2)\n",
    "standard_error_diff = np.sqrt(pooled_variance*(1/n1+1/n2))"
   ]
  },
  {
   "cell_type": "code",
   "execution_count": 27,
   "id": "d77b3e83-f309-495d-a7b8-148b34e27cfe",
   "metadata": {},
   "outputs": [],
   "source": [
    "margin_of_error = t_crit*standard_error_diff\n",
    "confidence_interval = (mom_mean-girl_mean-margin_of_error, mom_mean-girl_mean+margin_of_error)"
   ]
  },
  {
   "cell_type": "code",
   "execution_count": 29,
   "id": "2e9ba271-8a62-4026-9dae-0d996224b809",
   "metadata": {},
   "outputs": [
    {
     "name": "stdout",
     "output_type": "stream",
     "text": [
      "Доверительный интервал для разности средних: (-6.268418034506846, 10.068418034506857)\n"
     ]
    }
   ],
   "source": [
    "print(f\"Доверительный интервал для разности средних: {confidence_interval}\")"
   ]
  }
 ],
 "metadata": {
  "kernelspec": {
   "display_name": "Python 3 (ipykernel)",
   "language": "python",
   "name": "python3"
  },
  "language_info": {
   "codemirror_mode": {
    "name": "ipython",
    "version": 3
   },
   "file_extension": ".py",
   "mimetype": "text/x-python",
   "name": "python",
   "nbconvert_exporter": "python",
   "pygments_lexer": "ipython3",
   "version": "3.11.7"
  }
 },
 "nbformat": 4,
 "nbformat_minor": 5
}
