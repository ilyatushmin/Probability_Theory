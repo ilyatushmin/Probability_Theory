{
 "cells": [
  {
   "cell_type": "markdown",
   "id": "af4bb716-d0ed-4557-bc6a-90be9453a9ed",
   "metadata": {},
   "source": [
    "### Урок 8. Корреляционный анализ"
   ]
  },
  {
   "cell_type": "code",
   "execution_count": 3,
   "id": "eaa83e38-0a48-42f1-a001-3e1041900b93",
   "metadata": {},
   "outputs": [],
   "source": [
    "import pandas as pd\n",
    "import numpy as np\n",
    "from math import factorial as fl\n",
    "import scipy.stats as st"
   ]
  },
  {
   "cell_type": "markdown",
   "id": "e96ca06d-6fe5-4408-b9af-1bb915eaa043",
   "metadata": {},
   "source": [
    "##### 1.\n",
    "Даны значения величины заработной платы заемщиков банка (zp) и значения их\r\n",
    "поведенческого кредитного скоринга (ks): zp = [35, 45, 190, 200, 40, 70, 54, 150, 120, 110], ks\r\n",
    "= [401, 574, 874, 919, 459, 739, 653, 902, 746, 832]. Найдите ковариацию этих двух величин с\r\n",
    "помощью элементарных действий, а затем с помощью функции cov из numpy Полученные\r\n",
    "значения должны быть равны. Найдите коэффициент корреляции Пирсона с помощью\r\n",
    "ковариации и среднеквадратичных отклонений двух признаков, а затем с\r\n",
    "использованием функций из библиотек numpy и pandas.\r",
    "6.\r"
   ]
  },
  {
   "cell_type": "code",
   "execution_count": 6,
   "id": "ebacb8d1-7d46-42a8-8e29-45d995ec91cd",
   "metadata": {},
   "outputs": [],
   "source": [
    "zp = np.array([35, 45, 190, 200, 40, 70, 54, 150, 120, 110])\n",
    "ks = np.array([401, 574, 874, 919, 459, 739, 653, 902, 746, 832])"
   ]
  },
  {
   "cell_type": "code",
   "execution_count": 8,
   "id": "412179f8-6c95-4f9d-b2fa-78fcd67e2423",
   "metadata": {},
   "outputs": [
    {
     "name": "stdout",
     "output_type": "stream",
     "text": [
      "Ковариация вручную: 10175.37777777778\n"
     ]
    }
   ],
   "source": [
    "mean_zp = np.mean(zp)\n",
    "mean_ks = np.mean(ks)\n",
    "cov_manual = np.sum((zp - mean_zp) * (ks - mean_ks)) / (len(zp) - 1)\n",
    "print(f\"Ковариация вручную: {cov_manual}\")"
   ]
  },
  {
   "cell_type": "code",
   "execution_count": 10,
   "id": "157e7b40-0a9a-4830-b8b2-23529b365729",
   "metadata": {},
   "outputs": [
    {
     "name": "stdout",
     "output_type": "stream",
     "text": [
      "Ковариация с помощью numpy: 10175.377777777776\n"
     ]
    }
   ],
   "source": [
    "cov_numpy = np.cov(zp, ks)[0, 1]\n",
    "print(f\"Ковариация с помощью numpy: {cov_numpy}\")"
   ]
  },
  {
   "cell_type": "code",
   "execution_count": 14,
   "id": "919084cc-f52c-414c-a59f-3edcb55db5c5",
   "metadata": {},
   "outputs": [],
   "source": [
    "std_zp = np.std(zp, ddof=1)\n",
    "std_ks = np.std(ks, ddof=1)\n",
    "correlation_manual = cov_manual / (std_zp * std_ks)"
   ]
  },
  {
   "cell_type": "code",
   "execution_count": 16,
   "id": "2d072932-0e11-4953-ba2e-5988c131786b",
   "metadata": {},
   "outputs": [
    {
     "name": "stdout",
     "output_type": "stream",
     "text": [
      "Коэффициент корреляции Пирсона вручную: 0.8874900920739164\n"
     ]
    }
   ],
   "source": [
    "print(f\"Коэффициент корреляции Пирсона вручную: {correlation_manual}\")"
   ]
  },
  {
   "cell_type": "code",
   "execution_count": 20,
   "id": "0f1f5cf9-dd64-48fa-b7cc-b272174b2c2a",
   "metadata": {},
   "outputs": [
    {
     "name": "stdout",
     "output_type": "stream",
     "text": [
      "Коэффициент корреляции Пирсона с помощью numpy: 0.8874900920739162\n"
     ]
    }
   ],
   "source": [
    "correlation_numpy = np.corrcoef(zp, ks)[0, 1]\n",
    "print(f\"Коэффициент корреляции Пирсона с помощью numpy: {correlation_numpy}\")"
   ]
  },
  {
   "cell_type": "code",
   "execution_count": 22,
   "id": "cf7061ab-fbeb-41f1-b17a-0ff8c8413514",
   "metadata": {},
   "outputs": [
    {
     "name": "stdout",
     "output_type": "stream",
     "text": [
      "Коэффициент корреляции Пирсона с помощью pandas: 0.8874900920739162\n"
     ]
    }
   ],
   "source": [
    "# 5. Коэффициент корреляции Пирсона с помощью pandas\n",
    "correlation_pandas = pd.Series(zp).corr(pd.Series(ks))\n",
    "print(f\"Коэффициент корреляции Пирсона с помощью pandas: {correlation_pandas}\")"
   ]
  },
  {
   "cell_type": "markdown",
   "id": "bac4067f-6928-4175-8118-f4d474d6815b",
   "metadata": {},
   "source": [
    "##### 2.\n",
    "Измерены значения IQ выборки студентов, обучающихся в местных технических вузах:\r\n",
    "131, 125, 115, 122, 131, 115, 107, 99, 125, 111. Известно, что в генеральной\r\n",
    "совокупности IQ распределен нормально. Найдите доверительный интервал для\r\n",
    "математического ожидания с надежностью 0.9595.\r"
   ]
  },
  {
   "cell_type": "code",
   "execution_count": 25,
   "id": "8e78a74f-28c7-4257-b661-839f97cf95e2",
   "metadata": {},
   "outputs": [],
   "source": [
    "IQ = [131, 125, 115, 122, 131, 115, 107, 99, 125, 111]\n",
    "n = len(IQ)"
   ]
  },
  {
   "cell_type": "code",
   "execution_count": 27,
   "id": "1ecc7727-fed5-4a19-ab62-478c9416e3fb",
   "metadata": {},
   "outputs": [],
   "source": [
    "mean_IQ = np.mean(IQ)\n",
    "std_IQ = np.std(IQ, ddof=1)"
   ]
  },
  {
   "cell_type": "code",
   "execution_count": 31,
   "id": "f0caa71c-a622-4d7f-bff4-3ddb8d8456af",
   "metadata": {},
   "outputs": [],
   "source": [
    "alpha = 0.05\n",
    "t_crit = st.t.ppf(1 - alpha / 2, df=n - 1)"
   ]
  },
  {
   "cell_type": "code",
   "execution_count": 33,
   "id": "0e525780-5a93-42cd-91a2-f603e374a45e",
   "metadata": {},
   "outputs": [
    {
     "name": "stdout",
     "output_type": "stream",
     "text": [
      "Доверительный интервал для среднего IQ: (110.55608365158724, 125.64391634841274)\n"
     ]
    }
   ],
   "source": [
    "margin_of_error = t_crit * (std_IQ / np.sqrt(n))\n",
    "confidence_interval = (mean_IQ - margin_of_error, mean_IQ +\n",
    "margin_of_error)\n",
    "print(f\"Доверительный интервал для среднего IQ: {confidence_interval}\")"
   ]
  },
  {
   "cell_type": "markdown",
   "id": "45cdcf43-68dd-432c-b4e3-430d104ea729",
   "metadata": {},
   "source": [
    "##### 3.\n",
    "Известно, что рост футболистов в сборной распределен нормально с дисперсией\r\n",
    "генеральной совокупности, равной 25 кв.см. Объем выборки равен 27, среднее\r\n",
    "выборочное составляет 174.2. Найдите доверительный интервал для математического\r\n",
    "ожидания с надежностью 0.5.\r",
    "\r"
   ]
  },
  {
   "cell_type": "code",
   "execution_count": 46,
   "id": "badcac29-2b45-4e80-a578-35a7ddc95bd0",
   "metadata": {},
   "outputs": [],
   "source": [
    "mean_X = 174.2\n",
    "sigma = 5\n",
    "n = 27\n",
    "alpha = 0.05"
   ]
  },
  {
   "cell_type": "code",
   "execution_count": 54,
   "id": "d77b3e83-f309-495d-a7b8-148b34e27cfe",
   "metadata": {},
   "outputs": [],
   "source": [
    "z_crit = st.norm.ppf(1 - alpha / 2)\n",
    "margin_of_error = z_crit * (sigma / np.sqrt(n))\n",
    "confidence_interval = (mean_X - margin_of_error, mean_X +\n",
    "margin_of_error)"
   ]
  },
  {
   "cell_type": "code",
   "execution_count": 56,
   "id": "2e9ba271-8a62-4026-9dae-0d996224b809",
   "metadata": {},
   "outputs": [
    {
     "name": "stdout",
     "output_type": "stream",
     "text": [
      "Доверительный интервал для среднего роста: (172.3140237765397, 176.08597622346028)\n"
     ]
    }
   ],
   "source": [
    "print(f\"Доверительный интервал для среднего роста: {confidence_interval}\")"
   ]
  },
  {
   "cell_type": "code",
   "execution_count": null,
   "id": "a98f7a51-dbde-4615-badb-ae776466e995",
   "metadata": {},
   "outputs": [],
   "source": []
  },
  {
   "cell_type": "code",
   "execution_count": null,
   "id": "f737ec6f-04c5-4aff-a435-e75d7ff36f3a",
   "metadata": {},
   "outputs": [],
   "source": []
  }
 ],
 "metadata": {
  "kernelspec": {
   "display_name": "Python 3 (ipykernel)",
   "language": "python",
   "name": "python3"
  },
  "language_info": {
   "codemirror_mode": {
    "name": "ipython",
    "version": 3
   },
   "file_extension": ".py",
   "mimetype": "text/x-python",
   "name": "python",
   "nbconvert_exporter": "python",
   "pygments_lexer": "ipython3",
   "version": "3.11.7"
  }
 },
 "nbformat": 4,
 "nbformat_minor": 5
}
