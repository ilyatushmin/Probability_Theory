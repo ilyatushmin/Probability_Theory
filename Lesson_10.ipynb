{
 "cells": [
  {
   "cell_type": "markdown",
   "id": "af4bb716-d0ed-4557-bc6a-90be9453a9ed",
   "metadata": {},
   "source": [
    "### Урок 10. Дисперсионный анализ"
   ]
  },
  {
   "cell_type": "code",
   "execution_count": 3,
   "id": "eaa83e38-0a48-42f1-a001-3e1041900b93",
   "metadata": {},
   "outputs": [],
   "source": [
    "import pandas as pd\n",
    "import numpy as np\n",
    "from math import factorial as fl\n",
    "import scipy.stats as st"
   ]
  },
  {
   "cell_type": "markdown",
   "id": "e96ca06d-6fe5-4408-b9af-1bb915eaa043",
   "metadata": {},
   "source": [
    "##### 1.\n",
    "\n",
    "Провести дисперсионный анализ для определения того, есть ли различия\r\n",
    "среднего роста среди взрослых футболистов, хоккеистов и штангистов. Даны\r\n",
    "значения роста в трех группах случайно выбранных спортсменов: Футболисты:\r\n",
    "173, 175, 180, 178, 177, 185, 183, 182. Хоккеисты: 177, 179, 180, 188, 177, 172, 171,\r\n",
    "184, 180. Штангисты: 172, 173, 169, 177, 166, 180, 178, 177, 172, 166, 170.s.\r",
    "6.\r"
   ]
  },
  {
   "cell_type": "code",
   "execution_count": 9,
   "id": "ebacb8d1-7d46-42a8-8e29-45d995ec91cd",
   "metadata": {},
   "outputs": [],
   "source": [
    "football_players = [173, 175, 180, 178, 177, 185, 183, 182]\n",
    "hockey_players = [177, 179, 180, 188, 177, 172, 171, 184, 180]\n",
    "weightlifters = [172, 173, 169, 177, 166, 180, 178, 177, 172, 166, 170]"
   ]
  },
  {
   "cell_type": "code",
   "execution_count": 15,
   "id": "412179f8-6c95-4f9d-b2fa-78fcd67e2423",
   "metadata": {},
   "outputs": [
    {
     "name": "stdout",
     "output_type": "stream",
     "text": [
      "F-статистика: 5.5001\n",
      "p-значение: 0.0105\n"
     ]
    }
   ],
   "source": [
    "f_statistic, p_value = st.f_oneway(football_players,\n",
    "hockey_players, weightlifters)\n",
    "print(f\"F-статистика: {f_statistic:.4f}\")\n",
    "print(f\"p-значение: {p_value:.4f}\")"
   ]
  },
  {
   "cell_type": "code",
   "execution_count": 17,
   "id": "7c31a6ac-41f6-456b-b713-489e1c649f54",
   "metadata": {},
   "outputs": [
    {
     "name": "stdout",
     "output_type": "stream",
     "text": [
      "Есть статистически значимые различия в среднем росте между группами.\n"
     ]
    }
   ],
   "source": [
    "alpha = 0.05\n",
    "if p_value < alpha:\n",
    "    print(\"Есть статистически значимые различия в среднем росте между группами.\")\n",
    "else:\n",
    "    print(\"Нет статистически значимых различий в среднем росте между группами.\")"
   ]
  },
  {
   "cell_type": "code",
   "execution_count": null,
   "id": "72e55a31-043c-4977-b24e-5283f510536a",
   "metadata": {},
   "outputs": [],
   "source": []
  }
 ],
 "metadata": {
  "kernelspec": {
   "display_name": "Python 3 (ipykernel)",
   "language": "python",
   "name": "python3"
  },
  "language_info": {
   "codemirror_mode": {
    "name": "ipython",
    "version": 3
   },
   "file_extension": ".py",
   "mimetype": "text/x-python",
   "name": "python",
   "nbconvert_exporter": "python",
   "pygments_lexer": "ipython3",
   "version": "3.11.7"
  }
 },
 "nbformat": 4,
 "nbformat_minor": 5
}
