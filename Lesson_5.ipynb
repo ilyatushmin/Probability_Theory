{
 "cells": [
  {
   "cell_type": "markdown",
   "id": "4054ed4a-ba07-44ef-9598-be4bb168ff46",
   "metadata": {},
   "source": [
    "## Урок 5. Тестирование гипотез"
   ]
  },
  {
   "cell_type": "code",
   "execution_count": 5,
   "id": "80966ba8-1786-4f10-aceb-30f721edb087",
   "metadata": {},
   "outputs": [],
   "source": [
    "import pandas as pd\n",
    "import numpy as np\n",
    "from statsmodels.stats.weightstats import _tconfint_generic as t_stat\n",
    "from scipy.stats import norm \n",
    "import math"
   ]
  },
  {
   "cell_type": "markdown",
   "id": "f8470e82-0319-4f83-8d7d-6cbe853073d6",
   "metadata": {},
   "source": [
    "#### Задание 1."
   ]
  },
  {
   "cell_type": "code",
   "execution_count": 17,
   "id": "62d1ef11-75bc-4d89-a0e7-c0ca65da4f9a",
   "metadata": {},
   "outputs": [],
   "source": [
    "Mu_0 = 17\n",
    "x_bar = 17.5\n",
    "sigma = math.sqrt(4)\n",
    "n = 100\n",
    "a = 0.05\n",
    "Z_crit = 1.6545"
   ]
  },
  {
   "cell_type": "code",
   "execution_count": 13,
   "id": "bed57289-327c-4723-9a21-866ba4378ea5",
   "metadata": {},
   "outputs": [],
   "source": [
    "Z = (x_bar - Mu_0) / (sigma / math.sqrt(n))"
   ]
  },
  {
   "cell_type": "code",
   "execution_count": 73,
   "id": "94a10efd-df5a-4d74-9ef8-17f5b1115acd",
   "metadata": {},
   "outputs": [
    {
     "data": {
      "text/plain": [
       "2.5"
      ]
     },
     "execution_count": 73,
     "metadata": {},
     "output_type": "execute_result"
    }
   ],
   "source": [
    "Z"
   ]
  },
  {
   "cell_type": "markdown",
   "id": "11e0eaef-dbbe-4b2d-8502-493ab5f71173",
   "metadata": {},
   "source": [
    "##### Так как Z > Z_crit, значит результат статистически значим, и верна альтернативная гипотеза."
   ]
  },
  {
   "cell_type": "markdown",
   "id": "89ae228b-ffb6-4f34-bb20-5fa91834dff4",
   "metadata": {},
   "source": [
    "#### Задание 2."
   ]
  },
  {
   "cell_type": "code",
   "execution_count": 29,
   "id": "4e78b8e2-3c7b-40a0-bc72-eb700678b757",
   "metadata": {},
   "outputs": [],
   "source": [
    "weight = [202,203,199,197,195,201,200,204,194,190]\n",
    "Mu_0 = 200\n",
    "alpha = 0.01\n",
    "n = len(weight)\n",
    "mean_weight = sum(weight) / n\n",
    "s = math.sqrt(sum((x - mean_weight) **2 for x in weight) / (n-1))"
   ]
  },
  {
   "cell_type": "code",
   "execution_count": 71,
   "id": "5bd2881e-9106-42b6-bdca-0e8dba034ded",
   "metadata": {},
   "outputs": [
    {
     "data": {
      "text/plain": [
       "4.453463071962462"
      ]
     },
     "execution_count": 71,
     "metadata": {},
     "output_type": "execute_result"
    }
   ],
   "source": [
    "s"
   ]
  },
  {
   "cell_type": "code",
   "execution_count": 69,
   "id": "c6cdaf7a-e57e-49f5-b6e5-fbd6e52e2415",
   "metadata": {},
   "outputs": [
    {
     "data": {
      "text/plain": [
       "-1.0651074037450896"
      ]
     },
     "execution_count": 69,
     "metadata": {},
     "output_type": "execute_result"
    }
   ],
   "source": [
    "t_stat = (mean_weight - Mu_0) / (s / math.sqrt(n))\n",
    "t_stat"
   ]
  },
  {
   "cell_type": "markdown",
   "id": "f36cbf04-e79c-436a-92e0-4503d4ec6d51",
   "metadata": {},
   "source": [
    "###### Найдем t_crit через функцию:"
   ]
  },
  {
   "cell_type": "code",
   "execution_count": 39,
   "id": "67b2c57c-95e8-4476-a13a-1c363b8e3a9f",
   "metadata": {},
   "outputs": [
    {
     "data": {
      "text/plain": [
       "-2.8214379233005498"
      ]
     },
     "execution_count": 39,
     "metadata": {},
     "output_type": "execute_result"
    }
   ],
   "source": [
    "import scipy.stats\n",
    "scipy.stats.t.ppf(q=0.01, df=9)"
   ]
  },
  {
   "cell_type": "markdown",
   "id": "4d16b6a6-7f84-4f50-a110-36a993c15a24",
   "metadata": {},
   "source": [
    "##### Так как модуль t_stat меньше модуля t_crit, то нет оснований отвергать нулевую гипотезу."
   ]
  },
  {
   "cell_type": "markdown",
   "id": "6fbb97d9-affd-4fe8-9f82-5eaaf0171fdc",
   "metadata": {},
   "source": [
    "### Задание 3."
   ]
  },
  {
   "cell_type": "code",
   "execution_count": 47,
   "id": "9c13258f-3f0b-4a17-8045-b1756ed73ea9",
   "metadata": {},
   "outputs": [],
   "source": [
    "mom_height = [172,177,158,170,178,175,164,160,169,165]\n",
    "girl_height = [173,175,162,174,175,168,155,170,160]"
   ]
  },
  {
   "cell_type": "code",
   "execution_count": 63,
   "id": "e3b230c1-91f4-4ae7-8ddc-d9fadfa6757a",
   "metadata": {},
   "outputs": [],
   "source": [
    "n1 = len(mom_height)\n",
    "n2 = len(girl_height)\n",
    "mean_mom = sum(mom_height) / n1\n",
    "mean_girl = sum(girl_height) / n2"
   ]
  },
  {
   "cell_type": "code",
   "execution_count": 65,
   "id": "4bdf457f-b8b9-46b5-aad1-cabec0335df7",
   "metadata": {},
   "outputs": [
    {
     "data": {
      "text/plain": [
       "168.8"
      ]
     },
     "execution_count": 65,
     "metadata": {},
     "output_type": "execute_result"
    }
   ],
   "source": [
    "mean_mom"
   ]
  },
  {
   "cell_type": "code",
   "execution_count": 67,
   "id": "53183e55-5b72-4c66-850c-acc03e2b129a",
   "metadata": {},
   "outputs": [
    {
     "data": {
      "text/plain": [
       "168.0"
      ]
     },
     "execution_count": 67,
     "metadata": {},
     "output_type": "execute_result"
    }
   ],
   "source": [
    "mean_girl"
   ]
  },
  {
   "cell_type": "code",
   "execution_count": 75,
   "id": "f55e034b-8b5c-4823-855e-e83d791bad96",
   "metadata": {},
   "outputs": [],
   "source": [
    "var_mom = sum((x-mean_mom)**2 for x in mom_height) / (n1-1)\n",
    "\n",
    "var_girl = sum((x-mean_girl)**2 for x in girl_height) / (n2-1)"
   ]
  },
  {
   "cell_type": "code",
   "execution_count": 77,
   "id": "b253e39b-e162-49c7-bc01-eddabf4e4e94",
   "metadata": {},
   "outputs": [
    {
     "data": {
      "text/plain": [
       "48.17777777777778"
      ]
     },
     "execution_count": 77,
     "metadata": {},
     "output_type": "execute_result"
    }
   ],
   "source": [
    "var_mom"
   ]
  },
  {
   "cell_type": "code",
   "execution_count": 79,
   "id": "b713659d-ccaf-4e9d-bab6-e0b4ddbcfd79",
   "metadata": {},
   "outputs": [
    {
     "data": {
      "text/plain": [
       "54.0"
      ]
     },
     "execution_count": 79,
     "metadata": {},
     "output_type": "execute_result"
    }
   ],
   "source": [
    "var_girl"
   ]
  },
  {
   "cell_type": "code",
   "execution_count": 57,
   "id": "1c659ec3-e0ad-4ca0-8b86-b18b2359a551",
   "metadata": {},
   "outputs": [],
   "source": [
    "pooled_variance = ((n1-1) * var_mom + (n2-1) * var_girl) / (n1+n2-2)"
   ]
  },
  {
   "cell_type": "code",
   "execution_count": 81,
   "id": "ccb91ac8-caa8-4886-aba2-bc316e6c4e22",
   "metadata": {},
   "outputs": [
    {
     "data": {
      "text/plain": [
       "0.24400587215969016"
      ]
     },
     "execution_count": 81,
     "metadata": {},
     "output_type": "execute_result"
    }
   ],
   "source": [
    "t_stat_ind = (mean_mom - mean_girl) / math.sqrt(pooled_variance * (1 / n1 + 1 / n2))\n",
    "t_stat_ind"
   ]
  },
  {
   "cell_type": "markdown",
   "id": "a4bd1539-9965-4921-b580-a87907cab657",
   "metadata": {},
   "source": [
    "##### t_crit_ind = 2.100922"
   ]
  },
  {
   "cell_type": "markdown",
   "id": "f476394a-85cf-4b19-9aa4-8dd01c58add7",
   "metadata": {},
   "source": [
    "#### Так как значение индекса t-статистики меньше, то статистически значимых влияний между ростом матерей и дочерей нет."
   ]
  }
 ],
 "metadata": {
  "kernelspec": {
   "display_name": "Python 3 (ipykernel)",
   "language": "python",
   "name": "python3"
  },
  "language_info": {
   "codemirror_mode": {
    "name": "ipython",
    "version": 3
   },
   "file_extension": ".py",
   "mimetype": "text/x-python",
   "name": "python",
   "nbconvert_exporter": "python",
   "pygments_lexer": "ipython3",
   "version": "3.11.7"
  }
 },
 "nbformat": 4,
 "nbformat_minor": 5
}
