{
 "cells": [
  {
   "cell_type": "markdown",
   "id": "af4bb716-d0ed-4557-bc6a-90be9453a9ed",
   "metadata": {},
   "source": [
    "### Урок 4. Непрерывная случайная величина"
   ]
  },
  {
   "cell_type": "code",
   "execution_count": 3,
   "id": "eaa83e38-0a48-42f1-a001-3e1041900b93",
   "metadata": {},
   "outputs": [],
   "source": [
    "import pandas as pd\n",
    "import numpy as np\n",
    "from math import factorial as fl\n",
    "import scipy.stats as st"
   ]
  },
  {
   "cell_type": "markdown",
   "id": "e96ca06d-6fe5-4408-b9af-1bb915eaa043",
   "metadata": {},
   "source": [
    "##### 1.\n",
    "###### Случайная непрерывная величина A имеет равномерное распределение на промежутке (200, 800]. Найдите ее среднее значение и дисперсию."
   ]
  },
  {
   "cell_type": "code",
   "execution_count": 6,
   "id": "ebacb8d1-7d46-42a8-8e29-45d995ec91cd",
   "metadata": {},
   "outputs": [
    {
     "data": {
      "text/plain": [
       "500.0"
      ]
     },
     "execution_count": 6,
     "metadata": {},
     "output_type": "execute_result"
    }
   ],
   "source": [
    "MX = (200 + 800) / 2\n",
    "MX"
   ]
  },
  {
   "cell_type": "code",
   "execution_count": 8,
   "id": "312a6951-7ab5-44f8-b4e1-63fb2731acf3",
   "metadata": {},
   "outputs": [
    {
     "data": {
      "text/plain": [
       "30000.0"
      ]
     },
     "execution_count": 8,
     "metadata": {},
     "output_type": "execute_result"
    }
   ],
   "source": [
    "DX = (800 - 200) ** 2 / 12\n",
    "DX"
   ]
  },
  {
   "cell_type": "markdown",
   "id": "bac4067f-6928-4175-8118-f4d474d6815b",
   "metadata": {},
   "source": [
    "##### 2.\n",
    "###### О случайной непрерывной равномерно распределенной величине B известно, что ее дисперсия равна 0.2. Можно ли найти правую границу величины B и ее среднее значение зная, что левая граница равна 0.5? Если да, найдите ее."
   ]
  },
  {
   "cell_type": "code",
   "execution_count": 11,
   "id": "8e78a74f-28c7-4257-b661-839f97cf95e2",
   "metadata": {},
   "outputs": [
    {
     "data": {
      "text/plain": [
       "2.049193338482967"
      ]
     },
     "execution_count": 11,
     "metadata": {},
     "output_type": "execute_result"
    }
   ],
   "source": [
    "0.5 + np.sqrt(12 * 0.2)"
   ]
  },
  {
   "cell_type": "markdown",
   "id": "45cdcf43-68dd-432c-b4e3-430d104ea729",
   "metadata": {},
   "source": [
    "##### 3.\n",
    "###### Непрерывная случайная величина C распределена нормально и задана плотностью распределения f(x) = (1 / (4 * sqrt(2*pi))) * (exp(-(x+2)**2) / 32).Найдите:"
   ]
  },
  {
   "cell_type": "code",
   "execution_count": 17,
   "id": "badcac29-2b45-4e80-a578-35a7ddc95bd0",
   "metadata": {},
   "outputs": [],
   "source": [
    "mean_x = -2"
   ]
  },
  {
   "cell_type": "code",
   "execution_count": 19,
   "id": "2e9ba271-8a62-4026-9dae-0d996224b809",
   "metadata": {},
   "outputs": [
    {
     "name": "stdout",
     "output_type": "stream",
     "text": [
      "Среднее значение: -2.00\n"
     ]
    }
   ],
   "source": [
    "print(f\"Среднее значение: {mean_x: .2f}\")"
   ]
  },
  {
   "cell_type": "code",
   "execution_count": 21,
   "id": "67c20c5f-3029-41bb-ad5e-48d8d44124fc",
   "metadata": {},
   "outputs": [],
   "source": [
    "sigma = 4"
   ]
  },
  {
   "cell_type": "code",
   "execution_count": 23,
   "id": "bd217504-86ae-418d-9adb-bbef33279e20",
   "metadata": {},
   "outputs": [
    {
     "data": {
      "text/plain": [
       "16"
      ]
     },
     "execution_count": 23,
     "metadata": {},
     "output_type": "execute_result"
    }
   ],
   "source": [
    "# Дисперсия:\n",
    "variance_x = sigma**2\n",
    "variance_x"
   ]
  },
  {
   "cell_type": "code",
   "execution_count": 25,
   "id": "d9368dc2-104a-4681-b8e5-520384e96f9e",
   "metadata": {},
   "outputs": [
    {
     "data": {
      "text/plain": [
       "4"
      ]
     },
     "execution_count": 25,
     "metadata": {},
     "output_type": "execute_result"
    }
   ],
   "source": [
    "# Среднее квадратическое отклонение:\n",
    "stddev_x = sigma\n",
    "stddev_x"
   ]
  },
  {
   "cell_type": "markdown",
   "id": "f2f5e647-46a1-4e72-895f-253001e72563",
   "metadata": {},
   "source": [
    "##### 4.\n",
    "###### Рост взрослого населения города X имеет нормальное распределение. Причем, средний рост равен 174 см, а среднее квадратичное отклонение равно 8 см. Какова вероятность того, что случайным образом выбранный взрослый человек имеет рост:\n",
    "\n",
    "а) больше 182 см"
   ]
  },
  {
   "cell_type": "code",
   "execution_count": 30,
   "id": "8cb131da-c6dd-4387-83f5-cdd02465013b",
   "metadata": {},
   "outputs": [
    {
     "data": {
      "text/plain": [
       "0.15865525393145707"
      ]
     },
     "execution_count": 30,
     "metadata": {},
     "output_type": "execute_result"
    }
   ],
   "source": [
    "hight = st.norm(loc=174, scale=8)\n",
    "1 - hight.cdf(182)"
   ]
  },
  {
   "cell_type": "markdown",
   "id": "be5c1e3d-4f9e-4ac7-a90e-d8f78f4ee1a0",
   "metadata": {},
   "source": [
    "б) больше 190 см"
   ]
  },
  {
   "cell_type": "code",
   "execution_count": 35,
   "id": "39069b33-0982-430d-8781-465f2b2e8ee5",
   "metadata": {},
   "outputs": [
    {
     "data": {
      "text/plain": [
       "0.02275013194817921"
      ]
     },
     "execution_count": 35,
     "metadata": {},
     "output_type": "execute_result"
    }
   ],
   "source": [
    "1 - hight.cdf(190)"
   ]
  },
  {
   "cell_type": "markdown",
   "id": "bb749375-15fb-4206-81ba-116e0a7e042e",
   "metadata": {},
   "source": [
    "в) от 166 см до 190 см"
   ]
  },
  {
   "cell_type": "code",
   "execution_count": 38,
   "id": "990d7fa7-a2f6-4c8a-9e2e-760a340eab41",
   "metadata": {},
   "outputs": [
    {
     "data": {
      "text/plain": [
       "0.8185946141203637"
      ]
     },
     "execution_count": 38,
     "metadata": {},
     "output_type": "execute_result"
    }
   ],
   "source": [
    "hight.cdf(190) - hight.cdf(166)"
   ]
  },
  {
   "cell_type": "markdown",
   "id": "d75750ce-a826-4c5e-8669-9dd2bb9d9fe6",
   "metadata": {},
   "source": [
    "г) от 166 см до 182 см"
   ]
  },
  {
   "cell_type": "code",
   "execution_count": 54,
   "id": "95e10bcd-0397-4f54-97cb-87dedcebee57",
   "metadata": {},
   "outputs": [
    {
     "data": {
      "text/plain": [
       "0.6826894921370859"
      ]
     },
     "execution_count": 54,
     "metadata": {},
     "output_type": "execute_result"
    }
   ],
   "source": [
    "hight.cdf(182) - hight.cdf(166)"
   ]
  },
  {
   "cell_type": "markdown",
   "id": "1f491986-72da-49f4-ba7b-30f3fd8dc254",
   "metadata": {},
   "source": [
    "д) от 158 см до 190 см"
   ]
  },
  {
   "cell_type": "code",
   "execution_count": 51,
   "id": "046db3ff-9e44-427b-9d6a-b39ec22e2f22",
   "metadata": {},
   "outputs": [
    {
     "data": {
      "text/plain": [
       "0.9544997361036416"
      ]
     },
     "execution_count": 51,
     "metadata": {},
     "output_type": "execute_result"
    }
   ],
   "source": [
    "hight.cdf(190) - hight.cdf(158)"
   ]
  },
  {
   "cell_type": "markdown",
   "id": "8cb1b8fd-480c-41d6-ab59-22af5a412cb1",
   "metadata": {},
   "source": [
    "е) не выше 150 см или не ниже 190 см"
   ]
  },
  {
   "cell_type": "code",
   "execution_count": 46,
   "id": "f59b08f5-173d-4fef-8afd-edf788298ea3",
   "metadata": {},
   "outputs": [
    {
     "data": {
      "text/plain": [
       "0.0241000299798093"
      ]
     },
     "execution_count": 46,
     "metadata": {},
     "output_type": "execute_result"
    }
   ],
   "source": [
    "hight.cdf(150) + (1 - hight.cdf(190))"
   ]
  },
  {
   "cell_type": "markdown",
   "id": "80d0f533-2e29-4170-a308-d01729ae9b98",
   "metadata": {},
   "source": [
    "ё) не выше 150 см или не ниже 198 см"
   ]
  },
  {
   "cell_type": "code",
   "execution_count": 48,
   "id": "f25da893-2f09-464d-9787-cc87f908e4a6",
   "metadata": {},
   "outputs": [
    {
     "data": {
      "text/plain": [
       "0.0026997960632601965"
      ]
     },
     "execution_count": 48,
     "metadata": {},
     "output_type": "execute_result"
    }
   ],
   "source": [
    "hight.cdf(150) + (1 - hight.cdf(198))"
   ]
  },
  {
   "cell_type": "markdown",
   "id": "167035be-81ac-4d92-8288-61ac63854045",
   "metadata": {},
   "source": [
    "ж) ниже 166 см."
   ]
  },
  {
   "cell_type": "code",
   "execution_count": 40,
   "id": "47293d33-1f13-4979-b69f-9ddb23696968",
   "metadata": {},
   "outputs": [
    {
     "data": {
      "text/plain": [
       "0.15865525393145707"
      ]
     },
     "execution_count": 40,
     "metadata": {},
     "output_type": "execute_result"
    }
   ],
   "source": [
    "hight.cdf(166)"
   ]
  },
  {
   "cell_type": "markdown",
   "id": "5e16ed0d-59b1-4c94-a85d-955f3c55bd80",
   "metadata": {},
   "source": [
    "##### 5.\n",
    "###### На сколько сигм (средних квадратичных отклонений) отклоняется рост человека, равный 190 см, от математического ожидания роста в популяции, в которой M(X) = 178 см и D(X) = 25 кв.см?"
   ]
  },
  {
   "cell_type": "code",
   "execution_count": 58,
   "id": "e718aa86-b059-4358-869e-5ab501dad391",
   "metadata": {},
   "outputs": [
    {
     "data": {
      "text/plain": [
       "2.4"
      ]
     },
     "execution_count": 58,
     "metadata": {},
     "output_type": "execute_result"
    }
   ],
   "source": [
    "(190 - 178) / np.sqrt(25)"
   ]
  },
  {
   "cell_type": "code",
   "execution_count": null,
   "id": "3adccd1c-ea1e-4368-9586-332682ef901c",
   "metadata": {},
   "outputs": [],
   "source": []
  },
  {
   "cell_type": "code",
   "execution_count": null,
   "id": "a289dadd-47d1-4762-bd93-eb01f30e85b0",
   "metadata": {},
   "outputs": [],
   "source": []
  }
 ],
 "metadata": {
  "kernelspec": {
   "display_name": "Python 3 (ipykernel)",
   "language": "python",
   "name": "python3"
  },
  "language_info": {
   "codemirror_mode": {
    "name": "ipython",
    "version": 3
   },
   "file_extension": ".py",
   "mimetype": "text/x-python",
   "name": "python",
   "nbconvert_exporter": "python",
   "pygments_lexer": "ipython3",
   "version": "3.11.7"
  }
 },
 "nbformat": 4,
 "nbformat_minor": 5
}
